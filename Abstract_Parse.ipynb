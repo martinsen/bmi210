{
 "cells": [
  {
   "cell_type": "code",
   "execution_count": 66,
   "metadata": {},
   "outputs": [],
   "source": [
    "from __future__ import unicode_literals, print_function, division\n",
    "from io import open\n",
    "import unicodedata\n",
    "import string\n",
    "import re\n",
    "import time\n",
    "import random\n",
    "import pickle\n",
    "import numpy as np\n",
    "import math\n",
    "\n",
    "%matplotlib inline"
   ]
  },
  {
   "cell_type": "markdown",
   "metadata": {},
   "source": [
    "# If you put your abstract in a text file run the cell below to load if"
   ]
  },
  {
   "cell_type": "code",
   "execution_count": null,
   "metadata": {},
   "outputs": [],
   "source": [
    "with open(\"abstract.txt\",'r') as abstract:\n",
    "    abstract_string = abstract.read() "
   ]
  },
  {
   "cell_type": "markdown",
   "metadata": {},
   "source": [
    "# You can also just paste the astract in as a string"
   ]
  },
  {
   "cell_type": "code",
   "execution_count": 156,
   "metadata": {},
   "outputs": [],
   "source": [
    "abstract_string = \"here is an ANS and pituitary GABAergic\""
   ]
  },
  {
   "cell_type": "markdown",
   "metadata": {},
   "source": [
    "# run this cell to get the function, terms are separated by spaces, \"abc bcs\" are 2 terms. \"abc/abcd/a-b-c\" will detect \"acb\", \"abcd\"  and \"a b c\" as the same term. "
   ]
  },
  {
   "cell_type": "code",
   "execution_count": 192,
   "metadata": {},
   "outputs": [],
   "source": [
    "def get_bit_vector_and_key(abstract_string):\n",
    "    \n",
    "    '''\n",
    "    input - a string that is the abstract or title or article\n",
    "    output:\n",
    "        bit_vector - 85 binary bits, one for each unit of analysis uoa\n",
    "        index2word - dictionary mapping the bit index starting at 0 to the uoa string \n",
    "        list_of_uoas - list of the positive unit of analyses in string format\n",
    "        list_of_indices - list of the positive indices in the bit_vector\n",
    "        \n",
    "    The function will also print out for you the size of each class of UOA\n",
    "    the first cell is in index 19 for example for GABAergic\n",
    "    '''\n",
    "\n",
    "    def unicode_to_ascii(s):\n",
    "        return ''.join(\n",
    "            c for c in unicodedata.normalize('NFD', s)\n",
    "            if unicodedata.category(c) != 'Mn')\n",
    "\n",
    "    def normalize_string(s):\n",
    "        s = unicode_to_ascii(s.lower().strip())\n",
    "        s = ' '.join(s.split())\n",
    "        s = s.replace(\"'\",\"\")\n",
    "        s = re.sub(r\"([.!?])\", r\" \\1\", s)\n",
    "        s = re.sub(r\"[^a-zA-Z.!?]+\", r\" \", s)\n",
    "        return s\n",
    "\n",
    "    molecules = \"BDNF CCK cortisol/corticosterone/steroid CRF-family dopamine/dopaminergic cannabinoids FGF2 GABA \\\n",
    "    glutamate neuropeptide neurosteroid NMDA NPY orexin oxytocin serotonin/serotinergic vasopressin acth \\\n",
    "    HPA-axis-hormones/hypothalamic–pituitary–adrenal\"\n",
    "\n",
    "    cells = \"GABAergic glia neurons pyramidal pituitary \"\n",
    "\n",
    "    circuits = \"autonomic-nervous-system/ANS basamyg/basal-amygdala central-nucleus d-hippocampus dmpfc dorsal-acc dpag \\\n",
    "    hypothalamus icms insular-cortex latamyg/lateral-amygdala latPFC/insula LC medial-amygdala/medamyg OFC pag pons \\\n",
    "    rostral/ventral-acc rpvm v-hippocampus vmPFC vPAG bed-nucleus-of-stria-terminalis/stria-terminalis\"\n",
    "\n",
    "    physiology = \"BP/blood-pressure context-startle \\\n",
    "    emg eye-tracking facial-emg fear-potentiated-startle heart-rate \\\n",
    "    pupillometry respiration response-accuracy skin-conductance acth average-cortisol-level potentiated-startle\"\n",
    "\n",
    "    behavior = \"analgesia approach/early-developement avoidance facial-expressions freezing open-field \\\n",
    "    response-inhibition response-time risk-assessment social-approach\"\n",
    "\n",
    "    self_report = \"fear-survey-schedule suds anxiety-sensitivity-index bis/Barratt-Impulsivity-Scale \\\n",
    "    fear-of-negative-evaluation-scale intolerance-of-uncertainty-scale leds\"\n",
    "\n",
    "    paradigms = \"behavioral-approach-test co2-challenge-test cold-pressor-test fear-conditioning \\\n",
    "    stranger-tests trier-social-stress-test npu-threat-task\"\n",
    "    \n",
    "    list_of_indices = []\n",
    "    list_of_uoas = []\n",
    "    index2word = {}\n",
    "    total_size = 0\n",
    "    UOAs = [molecules, cells, circuits, physiology, behavior, self_report, paradigms]\n",
    "    UOAnames = ['molecules', 'cells', 'circuits', 'physiology', 'behavior', 'self_report', 'paradigms']\n",
    "\n",
    "    bit_vector = [0]*len((' '.join(UOAs).split()))\n",
    "    i = 0\n",
    "    u = 0\n",
    "    for uoa in UOAs:\n",
    "        print(\"size of \", UOAnames[u],\" : \", len(' '.join(uoa.split()).split(' '))) \n",
    "        u += 1\n",
    "        for unit in ' '.join(uoa.split()).split(' '):\n",
    "            if any(word in abstract_string for word in unit.split(\"/\")):\n",
    "                list_of_indices.append(i)\n",
    "                list_of_uoas.append(unit)\n",
    "                bit_vector[i] =1\n",
    "\n",
    "            else:\n",
    "                bit_vector[i] =0\n",
    "            index2word[i] = unit\n",
    "            i+=1\n",
    "            \n",
    "    \n",
    "    \n",
    "        \n",
    "    return bit_vector, index2word, list_of_uoas, list_of_indices"
   ]
  },
  {
   "cell_type": "markdown",
   "metadata": {},
   "source": [
    "# use the function "
   ]
  },
  {
   "cell_type": "code",
   "execution_count": 211,
   "metadata": {},
   "outputs": [
    {
     "name": "stdout",
     "output_type": "stream",
     "text": [
      "size of  molecules  :  19\n",
      "size of  cells  :  5\n",
      "size of  circuits  :  23\n",
      "size of  physiology  :  14\n",
      "size of  behavior  :  10\n",
      "size of  self_report  :  7\n",
      "size of  paradigms  :  7\n"
     ]
    }
   ],
   "source": [
    "bit_vector, index2word, list_of_uoas, list_of_indices = get_bit_vector_and_key(abstract_string)"
   ]
  },
  {
   "cell_type": "code",
   "execution_count": 212,
   "metadata": {},
   "outputs": [
    {
     "data": {
      "text/plain": [
       "85"
      ]
     },
     "execution_count": 212,
     "metadata": {},
     "output_type": "execute_result"
    }
   ],
   "source": [
    "len(bit_vector)"
   ]
  },
  {
   "cell_type": "code",
   "execution_count": 213,
   "metadata": {},
   "outputs": [
    {
     "data": {
      "text/plain": [
       "[7, 19, 23, 24]"
      ]
     },
     "execution_count": 213,
     "metadata": {},
     "output_type": "execute_result"
    }
   ],
   "source": [
    "list_of_indices"
   ]
  },
  {
   "cell_type": "code",
   "execution_count": 214,
   "metadata": {},
   "outputs": [
    {
     "data": {
      "text/plain": [
       "'pituitary'"
      ]
     },
     "execution_count": 214,
     "metadata": {},
     "output_type": "execute_result"
    }
   ],
   "source": [
    "index2word[23]"
   ]
  },
  {
   "cell_type": "code",
   "execution_count": 215,
   "metadata": {},
   "outputs": [
    {
     "data": {
      "text/plain": [
       "1"
      ]
     },
     "execution_count": 215,
     "metadata": {},
     "output_type": "execute_result"
    }
   ],
   "source": [
    "bit_vector[7]"
   ]
  },
  {
   "cell_type": "code",
   "execution_count": null,
   "metadata": {},
   "outputs": [],
   "source": []
  }
 ],
 "metadata": {
  "kernelspec": {
   "display_name": "Python 3",
   "language": "python",
   "name": "python3"
  },
  "language_info": {
   "codemirror_mode": {
    "name": "ipython",
    "version": 3
   },
   "file_extension": ".py",
   "mimetype": "text/x-python",
   "name": "python",
   "nbconvert_exporter": "python",
   "pygments_lexer": "ipython3",
   "version": "3.6.4"
  }
 },
 "nbformat": 4,
 "nbformat_minor": 2
}
